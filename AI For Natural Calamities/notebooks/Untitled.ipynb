{
 "cells": [
  {
   "cell_type": "code",
   "execution_count": null,
   "id": "424232f0-eb80-49f2-9a05-32169f85c3c2",
   "metadata": {},
   "outputs": [],
   "source": [
    "# Advanced Wildfire Prediction: Deep Learning, Explainability, and Visualization\n",
    "This notebook demonstrates how to use deep learning (Keras), SHAP explainability, and advanced visualizations for wildfire area prediction."
   ]
  },
  {
   "cell_type": "code",
   "execution_count": null,
   "id": "c093abdb-5a5b-45b9-813c-ef6685e1f532",
   "metadata": {},
   "outputs": [],
   "source": [
    "# Advanced Wildfire Prediction: Deep Learning, Explainability, and Visualization\n",
    "This notebook demonstrates how to use deep learning (Keras), SHAP explainability, and advanced visualizations for wildfire area prediction."
   ]
  },
  {
   "cell_type": "code",
   "execution_count": null,
   "id": "6d642a5b-0389-492e-8f83-fcd0a1667ca2",
   "metadata": {},
   "outputs": [],
   "source": [
    "import pandas as pd\n",
    "import numpy as np\n",
    "from sklearn.model_selection import train_test_split\n",
    "import matplotlib.pyplot as plt\n",
    "import seaborn as sns\n",
    "import shap\n",
    "from tensorflow import keras\n",
    "from tensorflow.keras import layers"
   ]
  },
  {
   "cell_type": "code",
   "execution_count": null,
   "id": "af456e59-be30-42c6-b74c-92a47baf4e05",
   "metadata": {},
   "outputs": [],
   "source": [
    "# Load and preprocess data\n",
    "df = pd.read_csv('../data/forestfires.csv')\n",
    "df['month'] = df['month'].astype('category').cat.codes\n",
    "df['day'] = df['day'].astype('category').cat.codes\n",
    "df['log_area'] = np.log1p(df['area'])\n",
    "X = df.drop(['area', 'log_area'], axis=1)\n",
    "y = df['log_area']\n",
    "X_train, X_test, y_train, y_test = train_test_split(X, y, test_size=0.2, random_state=42)"
   ]
  },
  {
   "cell_type": "code",
   "execution_count": null,
   "id": "84d5d0cd-8447-4195-898e-11bc6439116f",
   "metadata": {},
   "outputs": [],
   "source": [
    "# Build and train a simple deep learning model\n",
    "model = keras.Sequential([\n",
    "    layers.Dense(64, activation='relu', input_shape=(X_train.shape[1],)),\n",
    "    layers.Dense(32, activation='relu'),\n",
    "    layers.Dense(1)\n",
    "])\n",
    "model.compile(optimizer='adam', loss='mse', metrics=['mae'])\n",
    "history = model.fit(X_train, y_train, epochs=50, batch_size=16, validation_split=0.2, verbose=0)"
   ]
  },
  {
   "cell_type": "code",
   "execution_count": null,
   "id": "61be3eb6-76f2-47ec-9758-439108a1d1e0",
   "metadata": {},
   "outputs": [],
   "source": [
    "# Plot training history\n",
    "plt.figure(figsize=(10,4))\n",
    "plt.plot(history.history['loss'], label='Train Loss')\n",
    "plt.plot(history.history['val_loss'], label='Val Loss')\n",
    "plt.xlabel('Epoch')\n",
    "plt.ylabel('MSE Loss')\n",
    "plt.legend()\n",
    "plt.title('Training History')\n",
    "plt.show()"
   ]
  },
  {
   "cell_type": "code",
   "execution_count": null,
   "id": "58b9b235-bdd4-4c4b-b420-141a1fe529a8",
   "metadata": {},
   "outputs": [],
   "source": [
    "# Predict and plot actual vs predicted\n",
    "y_pred = model.predict(X_test).flatten()\n",
    "plt.figure(figsize=(6,6))\n",
    "plt.scatter(y_test, y_pred, alpha=0.6)\n",
    "plt.xlabel('Actual log_area')\n",
    "plt.ylabel('Predicted log_area')\n",
    "plt.title('Actual vs Predicted (Deep Learning)')\n",
    "plt.plot([y_test.min(), y_test.max()], [y_test.min(), y_test.max()], 'r--')\n",
    "plt.show()"
   ]
  },
  {
   "cell_type": "code",
   "execution_count": null,
   "id": "e797dad4-4b54-47ee-acb1-1e114143153b",
   "metadata": {},
   "outputs": [],
   "source": []
  }
 ],
 "metadata": {
  "kernelspec": {
   "display_name": "Python 3 (ipykernel)",
   "language": "python",
   "name": "python3"
  },
  "language_info": {
   "codemirror_mode": {
    "name": "ipython",
    "version": 3
   },
   "file_extension": ".py",
   "mimetype": "text/x-python",
   "name": "python",
   "nbconvert_exporter": "python",
   "pygments_lexer": "ipython3",
   "version": "3.13.2"
  }
 },
 "nbformat": 4,
 "nbformat_minor": 5
}
